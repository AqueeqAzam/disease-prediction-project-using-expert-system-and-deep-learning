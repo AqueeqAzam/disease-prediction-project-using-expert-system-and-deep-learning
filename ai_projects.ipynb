{
  "nbformat": 4,
  "nbformat_minor": 0,
  "metadata": {
    "colab": {
      "provenance": [],
      "authorship_tag": "ABX9TyPkFGxHrEjptelktU7hjUNc",
      "include_colab_link": true
    },
    "kernelspec": {
      "name": "python3",
      "display_name": "Python 3"
    },
    "language_info": {
      "name": "python"
    }
  },
  "cells": [
    {
      "cell_type": "markdown",
      "metadata": {
        "id": "view-in-github",
        "colab_type": "text"
      },
      "source": [
        "<a href=\"https://colab.research.google.com/github/AqueeqAzam/disease-prediction-using-expert-system-and-deep-learning/blob/main/ai_projects.ipynb\" target=\"_parent\"><img src=\"https://colab.research.google.com/assets/colab-badge.svg\" alt=\"Open In Colab\"/></a>"
      ]
    },
    {
      "cell_type": "markdown",
      "source": [
        "# `Disease Prediction Project using expert system and artificial neural network`"
      ],
      "metadata": {
        "id": "iq8G3q2fZaC_"
      }
    },
    {
      "cell_type": "markdown",
      "source": [
        "# Generates low quantity data"
      ],
      "metadata": {
        "id": "sZ3w9q9iZds0"
      }
    },
    {
      "cell_type": "code",
      "source": [
        "import pandas as pd\n",
        "# Generate CSV file\n",
        "data = {\n",
        "    \"Fever\": [True, False, True, False, True, False, True, False, True, False],\n",
        "    \"Cough\": [True, True, False, True, True, False, False, True, True, False],\n",
        "    \"Headache\": [False, True, True, False, True, True, False, True, False, False],\n",
        "    \"Fatigue\": [True, False, False, True, True, False, True, True, False, True],\n",
        "    \"Disease\": [\"COVID-19\", \"Flu\", \"Common Cold\", \"Healthy\", \"COVID-19\", \"Common Cold\", \"COVID-19\", \"Flu\", \"COVID-19\", \"Healthy\"]\n",
        "}\n",
        "\n",
        "df = pd.DataFrame(data)\n",
        "df.to_csv(\"diseases.csv\", index=False)"
      ],
      "metadata": {
        "id": "rrje48jwPkDP"
      },
      "execution_count": null,
      "outputs": []
    },
    {
      "cell_type": "markdown",
      "source": [
        "# Or you may generates either high quantity data"
      ],
      "metadata": {
        "id": "GOHPXoxXZ6nf"
      }
    },
    {
      "cell_type": "code",
      "source": [
        "import pandas as pd\n",
        "import numpy as np\n",
        "\n",
        "# Define the number of rows\n",
        "n_rows = 10000\n",
        "\n",
        "# Define the columns\n",
        "columns = [\"Fever\", \"Cough\", \"Headache\", \"Fatigue\", \"Disease\"]\n",
        "\n",
        "# Generate the data\n",
        "data = {\n",
        "    \"Fever\": np.random.choice([True, False], n_rows),\n",
        "    \"Cough\": np.random.choice([True, False], n_rows),\n",
        "    \"Headache\": np.random.choice([True, False], n_rows),\n",
        "    \"Fatigue\": np.random.choice([True, False], n_rows),\n",
        "    \"Disease\": np.random.choice([\"COVID-19\", \"Flu\", \"Common Cold\", \"Healthy\"], n_rows)\n",
        "}\n",
        "\n",
        "# Create the DataFrame\n",
        "df = pd.DataFrame(data, columns=columns)\n",
        "\n",
        "# Save to CSV\n",
        "df.to_csv(\"symptoms.csv\", index=False)"
      ],
      "metadata": {
        "id": "BkPEH5vP62Ht"
      },
      "execution_count": null,
      "outputs": []
    },
    {
      "cell_type": "markdown",
      "source": [
        "# Disease Predictions Programming"
      ],
      "metadata": {
        "id": "1Udy82nJaMZL"
      }
    },
    {
      "source": [
        "# import important libraries\n",
        "import pandas as pd\n",
        "import numpy as np\n",
        "from keras.models import Sequential\n",
        "from keras.layers import Dense\n",
        "from sklearn.model_selection import train_test_split\n",
        "from sklearn.preprocessing import LabelEncoder\n",
        "from keras.utils import to_categorical # Use to_categorical directly from keras.utils\n",
        "\n",
        "# ... (rest of your code)\n",
        "\n",
        "# Define the predict_disease function (replace with actual logic)\n",
        "def predict_disease(symptoms):\n",
        "    # Implement your expert system logic here\n",
        "    # This is a placeholder, replace it with your actual disease prediction logic\n",
        "    if symptoms[\"Fever\"]:\n",
        "        return \"Possible Flu\"\n",
        "    elif symptoms[\"Cough\"]:\n",
        "        return \"Possible Cold\"\n",
        "    # ... and so on\n",
        "    else:\n",
        "        return \"Unknown\"\n",
        "\n",
        "# Artificial Neural Network\n",
        "def train_model():\n",
        "    df = pd.read_csv(\"symptoms.csv\")\n",
        "    X = df[[\"Fever\", \"Cough\", \"Headache\", \"Fatigue\"]].astype(int) # Convert boolean to int\n",
        "    y = df[\"Disease\"]\n",
        "\n",
        "    # Encode the target labels\n",
        "    encoder = LabelEncoder()\n",
        "    encoder.fit(y)\n",
        "    encoded_Y = encoder.transform(y)\n",
        "    # convert integers to dummy variables (i.e. one hot encoded)\n",
        "    y = to_categorical(encoded_Y) # Use to_categorical instead of np_utils.to_categorical\n",
        "\n",
        "    X_train, X_test, y_train, y_test = train_test_split(X, y, test_size=0.2)\n",
        "    model = Sequential()\n",
        "    model.add(Dense(10, activation=\"relu\", input_shape=(4,)))\n",
        "    model.add(Dense(10, activation=\"relu\"))\n",
        "    model.add(Dense(4, activation=\"softmax\")) # 4 outputs for 4 diseases\n",
        "    model.compile(loss=\"categorical_crossentropy\", optimizer=\"adam\", metrics=[\"accuracy\"])\n",
        "    model.fit(X_train, y_train, epochs=10, batch_size=32)\n",
        "    return model, encoder # Return the encoder as well\n",
        "\n",
        "# Get user input\n",
        "fever = input(\"Do you have a fever? (yes/no): \")\n",
        "cough = input(\"Do you have a cough? (yes/no): \")\n",
        "headache = input(\"Do you have a headache? (yes/no): \")\n",
        "fatigue = input(\"Do you have fatigue? (yes/no): \")\n",
        "\n",
        "# Convert user input to boolean values\n",
        "symptoms = {\n",
        "    \"Fever\": fever.lower() == \"yes\",\n",
        "    \"Cough\": cough.lower() == \"yes\",\n",
        "    \"Headache\": headache.lower() == \"yes\",\n",
        "    \"Fatigue\": fatigue.lower() == \"yes\"\n",
        "}\n",
        "\n",
        "\n",
        "# Predict disease using expert system\n",
        "disease_es = predict_disease(symptoms)\n",
        "print(\"Predicted disease (Expert System):\", disease_es)\n",
        "\n",
        "# Predict disease using artificial neural network model\n",
        "model, encoder = train_model()\n",
        "\n",
        "# Convert symptoms to numpy array and reshape\n",
        "symptoms_array = np.array(list(symptoms.values())).reshape(1, -1).astype(int)\n",
        "disease_ann = model.predict(symptoms_array)\n",
        "predicted_index = np.argmax(disease_ann)\n",
        "\n",
        "# Decode the predicted index back to disease name\n",
        "predicted_disease = encoder.inverse_transform([predicted_index])[0]\n",
        "print(\"Predicted disease (Artificial Neural Network):\", predicted_disease)"
      ],
      "cell_type": "code",
      "metadata": {
        "colab": {
          "base_uri": "https://localhost:8080/"
        },
        "id": "wUC7SGcCIRwr",
        "outputId": "59a35132-b1ec-45e9-c088-02e69733f2d1"
      },
      "execution_count": null,
      "outputs": [
        {
          "output_type": "stream",
          "name": "stdout",
          "text": [
            "Do you have a fever? (yes/no): no\n",
            "Do you have a cough? (yes/no): yes\n",
            "Do you have a headache? (yes/no): no\n",
            "Do you have fatigue? (yes/no): no\n",
            "Predicted disease (Expert System): Possible Cold\n",
            "Epoch 1/10\n",
            "250/250 [==============================] - 1s 2ms/step - loss: 1.4011 - accuracy: 0.2510\n",
            "Epoch 2/10\n",
            "250/250 [==============================] - 0s 2ms/step - loss: 1.3872 - accuracy: 0.2596\n",
            "Epoch 3/10\n",
            "250/250 [==============================] - 0s 2ms/step - loss: 1.3864 - accuracy: 0.2601\n",
            "Epoch 4/10\n",
            "250/250 [==============================] - 0s 2ms/step - loss: 1.3860 - accuracy: 0.2648\n",
            "Epoch 5/10\n",
            "250/250 [==============================] - 0s 2ms/step - loss: 1.3858 - accuracy: 0.2599\n",
            "Epoch 6/10\n",
            "250/250 [==============================] - 0s 2ms/step - loss: 1.3857 - accuracy: 0.2641\n",
            "Epoch 7/10\n",
            "250/250 [==============================] - 0s 2ms/step - loss: 1.3855 - accuracy: 0.2652\n",
            "Epoch 8/10\n",
            "250/250 [==============================] - 1s 2ms/step - loss: 1.3853 - accuracy: 0.2705\n",
            "Epoch 9/10\n",
            "250/250 [==============================] - 1s 2ms/step - loss: 1.3852 - accuracy: 0.2676\n",
            "Epoch 10/10\n",
            "250/250 [==============================] - 1s 2ms/step - loss: 1.3853 - accuracy: 0.2689\n",
            "1/1 [==============================] - 0s 92ms/step\n",
            "Predicted disease (Artificial Neural Network): Common Cold\n"
          ]
        }
      ]
    }
  ]
}